{
 "cells": [
  {
   "cell_type": "code",
   "execution_count": 1,
   "metadata": {},
   "outputs": [
    {
     "data": {
      "text/plain": [
       "{'qiskit-terra': '0.17.4', 'qiskit-aer': '0.8.2', 'qiskit-ignis': '0.6.0', 'qiskit-ibmq-provider': '0.13.1', 'qiskit-aqua': '0.9.1', 'qiskit': '0.26.2', 'qiskit-nature': None, 'qiskit-finance': None, 'qiskit-optimization': None, 'qiskit-machine-learning': None}"
      ]
     },
     "execution_count": 1,
     "metadata": {},
     "output_type": "execute_result"
    }
   ],
   "source": [
    "import numpy as np\n",
    "import qiskit\n",
    "from qiskit import *\n",
    "from scipy.optimize import minimize\n",
    "\n",
    "qiskit.__qiskit_version__"
   ]
  },
  {
   "cell_type": "markdown",
   "metadata": {},
   "source": [
    "# Various Trial Quantum State Preparation"
   ]
  },
  {
   "cell_type": "code",
   "execution_count": 2,
   "metadata": {},
   "outputs": [
    {
     "data": {
      "image/png": "[encoded data removed]",
      "text/plain": [
       "<Figure size 206.852x144.48 with 1 Axes>"
      ]
     },
     "execution_count": 2,
     "metadata": {},
     "output_type": "execute_result"
    }
   ],
   "source": [
    "def vqe_circuit(parameters, ansatz):\n",
    "    '''\n",
    "    Create the quantum circuit for optimization\n",
    "    '''\n",
    "    circuit = QuantumCircuit(2)\n",
    "    # quantum state preparation\n",
    "    circuit = ansatz(circuit=circuit, parameters=parameters)\n",
    "    circuit.measure_all()\n",
    "    return circuit\n",
    "\n",
    "def ansatz1(circuit, parameters):\n",
    "    '''\n",
    "    Quantum state preparation\n",
    "    '''\n",
    "    assert len(parameters) == 4, 'length of the parameters has to be 4'\n",
    "    \n",
    "    circuit.rx(parameters[0], 0)\n",
    "    circuit.ry(parameters[1], 0)\n",
    "    circuit.rx(parameters[2], 1)\n",
    "    circuit.ry(parameters[3], 1)\n",
    "    \n",
    "    return circuit\n",
    "circuit = qiskit.QuantumCircuit(2)\n",
    "ansatz1(circuit, [1,2,3,0]).draw(output='mpl')"
   ]
  },
  {
   "cell_type": "code",
   "execution_count": 3,
   "metadata": {},
   "outputs": [],
   "source": [
    "# vqe_circuit([1,2,3,0], ansatz=ansatz1).draw(output='mpl')"
   ]
  },
  {
   "cell_type": "code",
   "execution_count": 4,
   "metadata": {},
   "outputs": [
    {
     "data": {
      "image/png": "[encoded data removed]",
      "text/plain": [
       "<Figure size 267.052x144.48 with 1 Axes>"
      ]
     },
     "execution_count": 4,
     "metadata": {},
     "output_type": "execute_result"
    }
   ],
   "source": [
    "def ansatz2(circuit, parameters):\n",
    "    '''\n",
    "    Quantum state preparation\n",
    "    '''\n",
    "    assert len(parameters) == 4, 'length of the parameters has to be 4'\n",
    "    \n",
    "    circuit.h(0)\n",
    "    circuit.rz(parameters[0], 0)\n",
    "    circuit.rx(parameters[1], 0)\n",
    "    circuit.h(1)\n",
    "    circuit.rz(parameters[2], 1)\n",
    "    circuit.rx(parameters[3], 1)\n",
    "    \n",
    "    return circuit\n",
    "circuit = qiskit.QuantumCircuit(2)\n",
    "ansatz2(circuit, [1,2,3,0]).draw(output='mpl')"
   ]
  },
  {
   "cell_type": "code",
   "execution_count": 5,
   "metadata": {},
   "outputs": [
    {
     "data": {
      "image/png": "[encoded data removed]",
      "text/plain": [
       "<Figure size 267.052x144.48 with 1 Axes>"
      ]
     },
     "execution_count": 5,
     "metadata": {},
     "output_type": "execute_result"
    }
   ],
   "source": [
    "def ansatz3(circuit, parameters):\n",
    "    '''\n",
    "    Quantum state preparation\n",
    "    '''\n",
    "    assert len(parameters) == 4, 'length of the parameters has to be 4'\n",
    "    \n",
    "    circuit.rx(parameters[0], 0)\n",
    "    circuit.rz(parameters[1], 0)\n",
    "    circuit.rx(parameters[2], 1)\n",
    "    circuit.rz(parameters[3], 1)\n",
    "    circuit.cx(0, 1)\n",
    "    \n",
    "    return circuit\n",
    "circuit = qiskit.QuantumCircuit(2)\n",
    "ansatz3(circuit, [1,2,3,0]).draw(output='mpl')"
   ]
  },
  {
   "cell_type": "markdown",
   "metadata": {},
   "source": [
    "# Calulating Expectation of Hamiltonian"
   ]
  },
  {
   "cell_type": "code",
   "execution_count": 6,
   "metadata": {},
   "outputs": [],
   "source": [
    "def expectation(parameters, vqe_circuit, ansatz):\n",
    "    shots = 2**14 # number of samples used for statistics\n",
    "    circuit = vqe_circuit(parameters=parameters,ansatz=ansatz)\n",
    "    \n",
    "    # run the circuit and get the number of samples that output each bit value\n",
    "    backend = BasicAer.get_backend('qasm_simulator')\n",
    "    counts = execute(circuit, backend, shots=shots).result().get_counts()\n",
    "    \n",
    "    # calculate the probabilities for each computational basis\n",
    "    probs = {}\n",
    "    for output in ['00','01', '10', '11']:\n",
    "        if output in counts:\n",
    "            probs[output] = counts[output] / shots\n",
    "        else:\n",
    "            probs[output] = 0\n",
    "    expectation_hamiltonian = probs['00'] - probs['01'] - probs['10'] + probs['11']\n",
    "    return expectation_hamiltonian\n",
    "\n",
    "# expectation(parameters=[0,1,2,3], vqe_circuit=vqe_circuit, ansatz=ansatz1)"
   ]
  },
  {
   "cell_type": "markdown",
   "metadata": {},
   "source": [
    "# Solution using Ansatz1"
   ]
  },
  {
   "cell_type": "code",
   "execution_count": 7,
   "metadata": {},
   "outputs": [
    {
     "name": "stdout",
     "output_type": "stream",
     "text": [
      "The estimated minimum energy from VQE algorithm is: -1.0\n",
      "with value of the parameters: [ 3.14708789  0.00330332 -0.00416515  0.0068585 ]\n"
     ]
    }
   ],
   "source": [
    "initial_parameters = np.array([0,0,0,0])\n",
    "tol = 1e-3 # tolerance for optimization precision.\n",
    "\n",
    "vqe_result = minimize(expectation, initial_parameters, args = (vqe_circuit, ansatz1),\n",
    "                      method=\"Powell\", tol=tol)\n",
    "print(f'The estimated minimum energy from VQE algorithm is: {vqe_result.fun}')\n",
    "print(f'with value of the parameters: {vqe_result.x}')"
   ]
  },
  {
   "cell_type": "markdown",
   "metadata": {},
   "source": [
    "# Solution using Ansatz2"
   ]
  },
  {
   "cell_type": "code",
   "execution_count": 8,
   "metadata": {},
   "outputs": [
    {
     "name": "stdout",
     "output_type": "stream",
     "text": [
      "The estimated minimum energy from VQE algorithm is: -0.9998779296875\n",
      "with value of the parameters: [-1.57813544 -1.54921857 -1.56892754  1.56316201]\n"
     ]
    }
   ],
   "source": [
    "initial_parameters = np.array([0,0,0,0])\n",
    "tol = 1e-3 # tolerance for optimization precision.\n",
    "\n",
    "vqe_result = minimize(expectation, initial_parameters, args = (vqe_circuit, ansatz2),\n",
    "                      method=\"Powell\", tol=tol)\n",
    "print(f'The estimated minimum energy from VQE algorithm is: {vqe_result.fun}')\n",
    "print(f'with value of the parameters: {vqe_result.x}')"
   ]
  },
  {
   "cell_type": "markdown",
   "metadata": {},
   "source": [
    "# Solution using Ansatz3"
   ]
  },
  {
   "cell_type": "code",
   "execution_count": 9,
   "metadata": {},
   "outputs": [
    {
     "name": "stdout",
     "output_type": "stream",
     "text": [
      "The estimated minimum energy from VQE algorithm is: -1.0\n",
      "with value of the parameters: [4.14924316 0.91317521 3.12979367 0.6295706 ]\n"
     ]
    }
   ],
   "source": [
    "initial_parameters = np.array([0,0,0,0])\n",
    "tol = 1e-3 # tolerance for optimization precision.\n",
    "\n",
    "vqe_result = minimize(expectation, initial_parameters, args = (vqe_circuit, ansatz3),\n",
    "                      method=\"Powell\", tol=tol)\n",
    "print(f'The estimated minimum energy from VQE algorithm is: {vqe_result.fun}')\n",
    "print(f'with value of the parameters: {vqe_result.x}')"
   ]
  },
  {
   "cell_type": "code",
   "execution_count": null,
   "metadata": {},
   "outputs": [],
   "source": []
  }
 ],
 "metadata": {
  "kernelspec": {
   "display_name": "quantum",
   "language": "python",
   "name": "quantum"
  },
  "language_info": {
   "codemirror_mode": {
    "name": "ipython",
    "version": 3
   },
   "file_extension": ".py",
   "mimetype": "text/x-python",
   "name": "python",
   "nbconvert_exporter": "python",
   "pygments_lexer": "ipython3",
   "version": "3.8.10"
  }
 },
 "nbformat": 4,
 "nbformat_minor": 4
}
